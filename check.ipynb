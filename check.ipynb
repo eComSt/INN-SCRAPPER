{
 "cells": [
  {
   "cell_type": "code",
   "execution_count": 12,
   "metadata": {},
   "outputs": [],
   "source": [
    "import bs4\n",
    "import numpy as np\n",
    "import requests\n",
    "import json\n",
    "import pandas\n",
    "import configparser\n",
    "import re\n"
   ]
  },
  {
   "cell_type": "code",
   "execution_count": 14,
   "metadata": {},
   "outputs": [
    {
     "name": "stdout",
     "output_type": "stream",
     "text": [
      "['7707083893', '7707083893', '7707083893', '7707083893', '7707083893', '7707083893', '7707083893', '7707083893', '7707083893', '7707083893', '7707083893', '7707083893']\n"
     ]
    }
   ],
   "source": [
    "url=\"https://www.google.com/search?q=\"\n",
    "name=\"Sberbank\"\n",
    "proxies = {'http': 'http://5.16.0.180:8080/'}\n",
    "headers = {'User-Agent': 'Mozilla/5.0 (Macintosh; Intel Mac OS X 10.9; rv:45.0) Gecko/20100101 Firefox/45.0'}\n",
    "name=\"+\".join(name.split())\n",
    "url2=\"\".join([url,name,\"+ИНН\"])\n",
    "data=requests.get(url2,headers=headers,proxies=proxies)\n",
    "inn_lst = re.findall('ИНН\\x20*(\\d{10})', data.text)\n",
    "print(inn_lst)"
   ]
  }
 ],
 "metadata": {
  "kernelspec": {
   "display_name": "Python 3.9.2 64-bit",
   "language": "python",
   "name": "python3"
  },
  "language_info": {
   "codemirror_mode": {
    "name": "ipython",
    "version": 3
   },
   "file_extension": ".py",
   "mimetype": "text/x-python",
   "name": "python",
   "nbconvert_exporter": "python",
   "pygments_lexer": "ipython3",
   "version": "3.9.2"
  },
  "orig_nbformat": 4,
  "vscode": {
   "interpreter": {
    "hash": "916dbcbb3f70747c44a77c7bcd40155683ae19c65e1c03b4aa3499c5328201f1"
   }
  }
 },
 "nbformat": 4,
 "nbformat_minor": 2
}
